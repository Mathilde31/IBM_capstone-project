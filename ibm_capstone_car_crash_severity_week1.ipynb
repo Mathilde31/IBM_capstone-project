{
 "cells": [
  {
   "cell_type": "markdown",
   "metadata": {},
   "source": [
    "# Introduction"
   ]
  },
  {
   "cell_type": "markdown",
   "metadata": {},
   "source": [
    "There has been a steady increase in traffic volume worldwide with more and more people having access to a car. Traffic accidents have become a significant cause of deaths and injuries and a major concern for public health. Recent reports of the World Health Organization (2018) show that car crashes represent 1.35 million deaths each year worldwide, and 2.4 million people seriously injured (requiring hospital admission). Road traffic crashes are a leading cause of deaths; this is the 1st cause of death among people aged 5 to 29 years old globally. Car crashes are the 8th leading cause of death across all age groups worldwide, and  are predicted to become the 7th leading cause by 2030. In the USA, 39,888 persons have died in a car accident in 2016. Reducing traffic accidents is a public safety challenge. "
   ]
  },
  {
   "cell_type": "markdown",
   "metadata": {},
   "source": [
    "In order to reduce the number of accidents and improve safety on the road, the city of Seattle has provided a dataset containing the history of car accidents in the city over the last 16 years. The Seattle office of the mayor is interested in a model that will reduce significantly the number of accidents. Using the severity index, we aim at building a model that will warn drivers by sending real-time alerts when driving in a dangerous situation likely to lead to a severe accident. We will use the severity index of the dataset to differentiate the severe and minor accidents."
   ]
  },
  {
   "cell_type": "markdown",
   "metadata": {},
   "source": [
    "We will also use the dataset to extract insights about how to improve the security on the roads in Seattle. We can identify the dangerous areas of the city and provide recommendations to the local authorities of Seattle and police forces.  "
   ]
  },
  {
   "cell_type": "markdown",
   "metadata": {},
   "source": [
    "# Data"
   ]
  },
  {
   "cell_type": "markdown",
   "metadata": {},
   "source": [
    "This dataset has been collected by Seattle authorities. It describes accidents that occurred in Seattle, from 2004 to 2020. It contains 194,673 rows, each one corresponding to an accident.\n",
    "There are 38 columns describing the accident, these columns can be grouped into the following categories :"
   ]
  },
  {
   "cell_type": "markdown",
   "metadata": {},
   "source": [
    "- Identification numbers of the accident (OBJECTID, REPORTNO, INCKEY) \n",
    "- Location of the accident (X,Y, LOCATION, INTKEY, JUNCTIONTYPE, SEGLANEKEY, \tCROSSWALKKEY)\n",
    "- Description of the the accident (INCDTTM, SEVERITYCODE, SEVERITYDESC, \tCOLLISIONTYPE, SDOT_COLCODE, ST_COLCODE, HITPARKEDCAR) \n",
    "- Description of the victims (PERSONCOUNT, PEDCOUNT, PEDCYLCOUNT, \tVEHCOUNT)\n",
    "- Weather conditions (WEATHER, ROADCOND, LIGHTCOND)\n",
    "- Description of the driver’s behavior (INATTENTIONIND, UNDERINFL, \tPEDROWNOTGRNT, SPEEDING)\n"
   ]
  },
  {
   "cell_type": "markdown",
   "metadata": {},
   "source": [
    "Given that we aim to give the drivers real time alerts, we will not use all the columns to train the model. Indeed, some information like the number of people involved in the accident or the collision type are not supposed to be known before the accident actually happened."
   ]
  }
 ],
 "metadata": {
  "kernelspec": {
   "display_name": "Python 3",
   "language": "python",
   "name": "python3"
  },
  "language_info": {
   "codemirror_mode": {
    "name": "ipython",
    "version": 3
   },
   "file_extension": ".py",
   "mimetype": "text/x-python",
   "name": "python",
   "nbconvert_exporter": "python",
   "pygments_lexer": "ipython3",
   "version": "3.8.5"
  }
 },
 "nbformat": 4,
 "nbformat_minor": 4
}
